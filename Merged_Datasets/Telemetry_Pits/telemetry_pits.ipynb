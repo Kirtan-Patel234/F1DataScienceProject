{
 "cells": [
  {
   "cell_type": "code",
   "execution_count": 5,
   "metadata": {},
   "outputs": [],
   "source": [
    "import glob\n",
    "import pandas as pd\n",
    "import os\n",
    "\n",
    "path = \"../../Telemetry\"\n",
    "all_files = glob.glob(path + \"/*.csv\")\n",
    "\n",
    "if not all_files:\n",
    "    print(f\"No CSV files found in {os.path.abspath(path)}. Ensure the files are placed correctly.\")\n",
    "else:\n",
    "    combined_csv = pd.concat([pd.read_csv(file) for file in all_files])\n",
    "    combined_csv.to_csv(\"telemetry.csv\", index=False)\n"
   ]
  },
  {
   "cell_type": "code",
   "execution_count": 1,
   "metadata": {},
   "outputs": [
    {
     "ename": "",
     "evalue": "",
     "output_type": "error",
     "traceback": [
      "\u001b[1;31mCannot execute code, session has been disposed. Please try restarting the Kernel."
     ]
    },
    {
     "ename": "",
     "evalue": "",
     "output_type": "error",
     "traceback": [
      "\u001b[1;31mThe Kernel crashed while executing code in the the current cell or a previous cell. Please review the code in the cell(s) to identify a possible cause of the failure. Click <a href='https://aka.ms/vscodeJupyterKernelCrash'>here</a> for more info. View Jupyter <a href='command:jupyter.viewOutput'>log</a> for further details."
     ]
    }
   ],
   "source": [
    "import pandas as pd\n",
    "\n",
    "# Define chunk size (adjust based on your system's memory capacity)\n",
    "chunk_size = 6\n",
    "\n",
    "# Initialize an empty list to hold merged chunks\n",
    "merged_chunks = []\n",
    "\n",
    "# Read and preprocess the first dataset (if it’s smaller and fits in memory)\n",
    "df1 = pd.read_csv(\"../../PitStops/Real_Pit_Stop_Data_3.csv\")\n",
    "df1['Lap Stop'] = pd.to_numeric(df1['Lap Stop'], errors='coerce')\n",
    "df1['Processed_GrandPrix'] = df1['Grand Prix'].str.split(',').str[0].str.strip()\n",
    "\n",
    "# Read the second dataset in chunks\n",
    "for chunk in pd.read_csv(\"telemetry.csv\", chunksize=chunk_size):\n",
    "    # Preprocess the chunk\n",
    "    chunk['LapNumber'] = pd.to_numeric(chunk['LapNumber'], errors='coerce')\n",
    "    chunk['Processed_RaceName'] = chunk['RaceName'].str.extract(r'(.*?) Grand Prix')\n",
    "    \n",
    "    # Merge the chunk with the first dataset\n",
    "    merged_chunk = pd.merge(\n",
    "        df1,\n",
    "        chunk,\n",
    "        left_on=['Processed_GrandPrix', 'Lap Stop'],\n",
    "        right_on=['Processed_RaceName', 'LapNumber'],\n",
    "        how='inner'  # Adjust as needed (inner, left, right, or outer)\n",
    "    )\n",
    "    \n",
    "    # Append the merged chunk to the list\n",
    "    merged_chunks.append(merged_chunk)\n",
    "\n",
    "# Concatenate all merged chunks into a single DataFrame\n",
    "merged_df = pd.concat(merged_chunks, ignore_index=True)\n",
    "\n",
    "# Drop unnecessary columns\n",
    "merged_df.drop(columns=['Processed_GrandPrix', 'Processed_RaceName'], inplace=True)\n",
    "\n",
    "# Output the final merged DataFrame\n",
    "print(merged_df)\n"
   ]
  }
 ],
 "metadata": {
  "kernelspec": {
   "display_name": "Python 3",
   "language": "python",
   "name": "python3"
  },
  "language_info": {
   "codemirror_mode": {
    "name": "ipython",
    "version": 3
   },
   "file_extension": ".py",
   "mimetype": "text/x-python",
   "name": "python",
   "nbconvert_exporter": "python",
   "pygments_lexer": "ipython3",
   "version": "3.11.5"
  },
  "orig_nbformat": 4
 },
 "nbformat": 4,
 "nbformat_minor": 2
}
