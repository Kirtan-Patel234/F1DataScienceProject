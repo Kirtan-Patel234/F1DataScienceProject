{
 "cells": [
  {
   "cell_type": "code",
   "execution_count": 1,
   "metadata": {},
   "outputs": [],
   "source": [
    "import pandas as pd\n",
    "import matplotlib.pyplot as plt\n",
    "import seaborn as sns\n",
    "sns.set()\n",
    "import math\n",
    "import numpy as np"
   ]
  },
  {
   "cell_type": "code",
   "execution_count": 3,
   "metadata": {},
   "outputs": [],
   "source": [
    "df = pd.read_csv('../../Tyre/tyre2019-2024.csv', encoding=\"ISO-8859-1\")\n",
    "# expand each row based on the number of laps from 'From' to 'To'\n",
    "expanded_rows = []\n",
    "\n",
    "for _, row in df.iterrows():\n",
    "    for lap in range(row['From'], row['To'] + 1):\n",
    "        # create a new row for each lap\n",
    "        expanded_row = row.copy()\n",
    "        expanded_row['Lap'] = lap  \n",
    "        # add the lap number as a new column\n",
    "        expanded_rows.append(expanded_row)\n",
    "\n",
    "# create a new DataFrame with the expanded rows\n",
    "df_tyre = pd.DataFrame(expanded_rows)\n",
    "\n",
    "# drop the original 'From' and 'To' columns as they are now represented by individual lap entries\n",
    "df_tyre.drop(['From', 'To', 'Unnamed: 7'], axis=1, inplace=True)\n",
    "df_tyre.to_csv('expanded_tyre_data.csv', index=False)\n",
    "df_tyre = df_tyre.drop(columns=['#Laps'])\n",
    "df_tyre = df_tyre.dropna()\n",
    "df_tyre['Driver'] = df_tyre['Driver'].apply(\n",
    "    lambda x: x.split()[-1][:3].upper() if isinstance(x, str) else x\n",
    ")"
   ]
  },
  {
   "cell_type": "code",
   "execution_count": 5,
   "metadata": {},
   "outputs": [],
   "source": [
    "df_weather = pd.read_csv('../../Weather/weather.csv')\n",
    "df_weather.rename(columns={'LapNumber': 'Lap'}, inplace=True)\n",
    "df_weather['Lap'] = df_weather['Lap'].astype(int)"
   ]
  },
  {
   "cell_type": "code",
   "execution_count": 6,
   "metadata": {},
   "outputs": [],
   "source": [
    "df_merged = pd.merge(df_weather, df_tyre, how='left', on=['Lap', 'Driver'])\n",
    "df_merged.to_csv('merged_weather_tyre_data.csv', index=False)"
   ]
  }
 ],
 "metadata": {
  "kernelspec": {
   "display_name": "Python 3",
   "language": "python",
   "name": "python3"
  },
  "language_info": {
   "codemirror_mode": {
    "name": "ipython",
    "version": 3
   },
   "file_extension": ".py",
   "mimetype": "text/x-python",
   "name": "python",
   "nbconvert_exporter": "python",
   "pygments_lexer": "ipython3",
   "version": "3.11.5"
  },
  "orig_nbformat": 4
 },
 "nbformat": 4,
 "nbformat_minor": 2
}
