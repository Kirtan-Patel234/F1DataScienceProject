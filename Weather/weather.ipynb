{
 "cells": [
  {
   "cell_type": "code",
   "execution_count": 11,
   "metadata": {},
   "outputs": [],
   "source": [
    "import fastf1 as ff1\n",
    "import csv\n",
    "import pandas as pd\n",
    "import os\n",
    "import time"
   ]
  },
  {
   "cell_type": "code",
   "execution_count": 12,
   "metadata": {},
   "outputs": [],
   "source": [
    "cache_dir = 'F1_data/cache'\n",
    "if not os.path.exists(cache_dir):\n",
    "    os.makedirs(cache_dir)\n",
    "\n",
    "ff1.Cache.enable_cache('F1_data/cache')"
   ]
  },
  {
   "cell_type": "code",
   "execution_count": 16,
   "metadata": {},
   "outputs": [
    {
     "name": "stderr",
     "output_type": "stream",
     "text": [
      "logger      WARNING \tFailed to load schedule from FastF1 backend!\n",
      "req            INFO \tNo cached data found for season_schedule. Loading data...\n",
      "_api           INFO \tFetching season schedule...\n",
      "logger      WARNING \tFailed to load schedule from F1 API backend!\n",
      "logger      WARNING \tFailed to load schedule from Ergast API backend!\n"
     ]
    },
    {
     "ename": "ValueError",
     "evalue": "Failed to load any schedule data.",
     "output_type": "error",
     "traceback": [
      "\u001b[0;31m---------------------------------------------------------------------------\u001b[0m",
      "\u001b[0;31mValueError\u001b[0m                                Traceback (most recent call last)",
      "Cell \u001b[0;32mIn[16], line 6\u001b[0m\n\u001b[1;32m      3\u001b[0m \u001b[39mfor\u001b[39;00m year \u001b[39min\u001b[39;00m years:\n\u001b[1;32m      4\u001b[0m     yearly_weather_data \u001b[39m=\u001b[39m []\n\u001b[0;32m----> 6\u001b[0m     \u001b[39mfor\u001b[39;00m round_number \u001b[39min\u001b[39;00m \u001b[39mrange\u001b[39m(\u001b[39m1\u001b[39m, ff1\u001b[39m.\u001b[39;49mget_event_schedule(year)[\u001b[39m'\u001b[39m\u001b[39mRoundNumber\u001b[39m\u001b[39m'\u001b[39m]\u001b[39m.\u001b[39mmax() \u001b[39m+\u001b[39m \u001b[39m1\u001b[39m):\n\u001b[1;32m      7\u001b[0m         \u001b[39mfor\u001b[39;00m session_type \u001b[39min\u001b[39;00m sessions:\n\u001b[1;32m      8\u001b[0m             \u001b[39mtry\u001b[39;00m:\n\u001b[1;32m      9\u001b[0m                 \u001b[39m# Load the session data with laps\u001b[39;00m\n",
      "File \u001b[0;32m/Library/Frameworks/Python.framework/Versions/3.11/lib/python3.11/site-packages/fastf1/events.py:520\u001b[0m, in \u001b[0;36mget_event_schedule\u001b[0;34m(year, include_testing, backend, force_ergast)\u001b[0m\n\u001b[1;32m    517\u001b[0m         \u001b[39mbreak\u001b[39;00m\n\u001b[1;32m    519\u001b[0m \u001b[39mif\u001b[39;00m schedule \u001b[39mis\u001b[39;00m \u001b[39mNone\u001b[39;00m:  \u001b[39m# raise Error if fallback failed as well\u001b[39;00m\n\u001b[0;32m--> 520\u001b[0m     \u001b[39mraise\u001b[39;00m \u001b[39mValueError\u001b[39;00m(\u001b[39m\"\u001b[39m\u001b[39mFailed to load any schedule data.\u001b[39m\u001b[39m\"\u001b[39m)\n\u001b[1;32m    522\u001b[0m \u001b[39mif\u001b[39;00m \u001b[39mnot\u001b[39;00m include_testing:\n\u001b[1;32m    523\u001b[0m     schedule \u001b[39m=\u001b[39m schedule[\u001b[39m~\u001b[39mschedule\u001b[39m.\u001b[39mis_testing()]\n",
      "\u001b[0;31mValueError\u001b[0m: Failed to load any schedule data."
     ]
    }
   ],
   "source": [
    "from concurrent.futures import ThreadPoolExecutor\n",
    "import fastf1 as ff1\n",
    "import pandas as pd\n",
    "\n",
    "years = range(2022, 2023)\n",
    "sessions = ['Q', 'R']\n",
    "\n",
    "for year in years:\n",
    "    yearly_weather_data = []\n",
    "\n",
    "    # Loop through each round in the event schedule\n",
    "    for round_number in range(1, ff1.get_event_schedule(year)['RoundNumber'].max() + 1):\n",
    "        for session_type in sessions:\n",
    "            with ThreadPoolExecutor(max_workers=20) as executor:\n",
    "                try:\n",
    "                    # Load the session data with laps\n",
    "                    session = ff1.get_session(year, round_number, session_type)\n",
    "                    session.load(laps=True)  # Load laps and other data\n",
    "\n",
    "                    # Retrieve weather data\n",
    "                    weather_data = session.weather_data.copy()\n",
    "\n",
    "                    # Associate each weather entry with the corresponding lap numbers for all drivers\n",
    "                    # Merge based on nearest time to each lap\n",
    "                    lap_data = session.laps[['Driver', 'LapNumber', 'Time']]\n",
    "                    weather_data['LapNumber'] = None\n",
    "                    weather_data['Driver'] = None\n",
    "\n",
    "                    for driver in lap_data['Driver'].unique():\n",
    "                        driver_laps = lap_data[lap_data['Driver'] == driver]\n",
    "                        driver_weather = weather_data.copy()\n",
    "                        driver_weather['Driver'] = driver\n",
    "\n",
    "                        # Find the nearest lap time for each weather timestamp\n",
    "                        driver_weather['LapNumber'] = driver_weather['Time'].apply(\n",
    "                            lambda time: driver_laps.iloc[(driver_laps['Time'] - time).abs().argsort()[:1]]['LapNumber'].values[0]\n",
    "                            if not driver_laps.empty else None\n",
    "                        )\n",
    "\n",
    "                        # Append driver's weather data to yearly data\n",
    "                        yearly_weather_data.append(driver_weather)\n",
    "\n",
    "                    print(f\"Collected weather data for {session_type} {year} Round {round_number}\")\n",
    "                except Exception as e:\n",
    "                    print(f\"Error loading data for {session_type} {year} Round {round_number}: {e}\")\n",
    "\n",
    "    # Combine all collected weather data for the year into a single DataFrame\n",
    "    yearly_weather_df = pd.concat(yearly_weather_data, ignore_index=True)\n",
    "\n",
    "    # Save the data to a CSV file for that year\n",
    "    output_file = f'weather_data_with_lap_numbers_{year}.csv'\n",
    "    yearly_weather_df.to_csv(output_file, index=False)\n",
    "    print(f\"Data for {year} saved to {output_file}\")\n"
   ]
  }
 ],
 "metadata": {
  "kernelspec": {
   "display_name": "Python 3",
   "language": "python",
   "name": "python3"
  },
  "language_info": {
   "codemirror_mode": {
    "name": "ipython",
    "version": 3
   },
   "file_extension": ".py",
   "mimetype": "text/x-python",
   "name": "python",
   "nbconvert_exporter": "python",
   "pygments_lexer": "ipython3",
   "version": "3.11.5"
  },
  "orig_nbformat": 4
 },
 "nbformat": 4,
 "nbformat_minor": 2
}
